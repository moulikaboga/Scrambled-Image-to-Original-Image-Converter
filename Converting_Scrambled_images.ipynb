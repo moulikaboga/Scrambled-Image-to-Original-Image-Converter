{
  "nbformat": 4,
  "nbformat_minor": 0,
  "metadata": {
    "colab": {
      "provenance": [],
      "authorship_tag": "ABX9TyM2HUEzZu1g8kKcaHtX00fA",
      "include_colab_link": true
    },
    "kernelspec": {
      "name": "python3",
      "display_name": "Python 3"
    },
    "language_info": {
      "name": "python"
    }
  },
  "cells": [
    {
      "cell_type": "markdown",
      "metadata": {
        "id": "view-in-github",
        "colab_type": "text"
      },
      "source": [
        "<a href=\"https://colab.research.google.com/github/moulikaboga/Scrambled-Image-to-Original-Image-Converter/blob/main/Converting_Scrambled_images.ipynb\" target=\"_parent\"><img src=\"https://colab.research.google.com/assets/colab-badge.svg\" alt=\"Open In Colab\"/></a>"
      ]
    },
    {
      "cell_type": "code",
      "execution_count": 1,
      "metadata": {
        "id": "QsSh9RRjSPsc",
        "colab": {
          "base_uri": "https://localhost:8080/"
        },
        "outputId": "f48a6d2c-cc5b-4e05-c9a7-7e849867b22c"
      },
      "outputs": [
        {
          "output_type": "stream",
          "name": "stdout",
          "text": [
            "Reconstructed image saved as 'reconstructed_image.png'\n"
          ]
        }
      ],
      "source": [
        "from PIL import Image\n",
        "\n",
        "# Load the scrambled image\n",
        "scrambled_image = Image.open('/content/drive/MyDrive/jigsaw.webp')  # Replace with your file path if needed\n",
        "\n",
        "# Define the mapping data\n",
        "mapping_data = [\n",
        "    (2, 1, 0, 0), (1, 1, 0, 1), (4, 1, 0, 2), (0, 3, 0, 3), (0, 1, 0, 4),\n",
        "    (1, 4, 1, 0), (2, 0, 1, 1), (2, 4, 1, 2), (4, 2, 1, 3), (2, 2, 1, 4),\n",
        "    (0, 0, 2, 0), (3, 2, 2, 1), (4, 3, 2, 2), (3, 0, 2, 3), (3, 4, 2, 4),\n",
        "    (1, 0, 3, 0), (2, 3, 3, 1), (3, 3, 3, 2), (4, 4, 3, 3), (0, 2, 3, 4),\n",
        "    (3, 1, 4, 0), (1, 2, 4, 1), (1, 3, 4, 2), (0, 4, 4, 3), (4, 0, 4, 4)\n",
        "]\n",
        "\n",
        "# Create a blank image for the reconstructed result\n",
        "reconstructed_image = Image.new('RGB', (500, 500))\n",
        "\n",
        "# Loop through each mapping and place pieces in their original positions\n",
        "piece_size = scrambled_image.width // 5  # Each piece is assumed to be square\n",
        "for original_row, original_col, scrambled_row, scrambled_col in mapping_data:\n",
        "    # Calculate coordinates of the scrambled piece\n",
        "    left = scrambled_col * piece_size\n",
        "    upper = scrambled_row * piece_size\n",
        "    right = left + piece_size\n",
        "    lower = upper + piece_size\n",
        "\n",
        "    # Crop the piece from the scrambled image\n",
        "    piece = scrambled_image.crop((left, upper, right, lower))\n",
        "\n",
        "    # Calculate coordinates for placing the piece in the reconstructed image\n",
        "    dest_left = original_col * piece_size\n",
        "    dest_upper = original_row * piece_size\n",
        "\n",
        "    # Paste the piece into its correct position\n",
        "    reconstructed_image.paste(piece, (dest_left, dest_upper))\n",
        "\n",
        "# Save the reconstructed image as PNG\n",
        "reconstructed_image.save('reconstructed_image.png')\n",
        "print(\"Reconstructed image saved as 'reconstructed_image.png'\")"
      ]
    }
  ]
}